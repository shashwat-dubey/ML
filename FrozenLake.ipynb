{
  "nbformat": 4,
  "nbformat_minor": 0,
  "metadata": {
    "kernelspec": {
      "display_name": "Python 3",
      "language": "python",
      "name": "python3"
    },
    "language_info": {
      "codemirror_mode": {
        "name": "ipython",
        "version": 3
      },
      "file_extension": ".py",
      "mimetype": "text/x-python",
      "name": "python",
      "nbconvert_exporter": "python",
      "pygments_lexer": "ipython3",
      "version": "3.7.0"
    },
    "colab": {
      "name": "FrozenLake.ipynb",
      "provenance": [],
      "include_colab_link": true
    }
  },
  "cells": [
    {
      "cell_type": "markdown",
      "metadata": {
        "id": "view-in-github",
        "colab_type": "text"
      },
      "source": [
        "<a href=\"https://colab.research.google.com/github/shashwat-dubey/ML/blob/master/FrozenLake.ipynb\" target=\"_parent\"><img src=\"https://colab.research.google.com/assets/colab-badge.svg\" alt=\"Open In Colab\"/></a>"
      ]
    },
    {
      "cell_type": "code",
      "metadata": {
        "id": "NfWQ_Xfss6-y",
        "colab_type": "code",
        "colab": {}
      },
      "source": [
        "import gym\n",
        "import random\n",
        "import time\n",
        "import numpy as  np\n",
        "from IPython.display import clear_output"
      ],
      "execution_count": 0,
      "outputs": []
    },
    {
      "cell_type": "code",
      "metadata": {
        "id": "Z_yimJsks6-2",
        "colab_type": "code",
        "colab": {}
      },
      "source": [
        "NumOfEpisodes = 10000\n",
        "NumOfSteps    = 100\n",
        "\n",
        "learningRate       = 0.2\n",
        "discountedReward   = 0.99\n",
        "\n",
        "ExploreProbability = 1\n",
        "ExploreRateMin     = 0.001\n",
        "ExploreRateMax     = 1.0\n",
        "ExploreDecayRate   = 0.001"
      ],
      "execution_count": 0,
      "outputs": []
    },
    {
      "cell_type": "markdown",
      "metadata": {
        "id": "XKkKqiCms6-6",
        "colab_type": "text"
      },
      "source": [
        "#Initializtion:\n",
        "1. Initialize Gym environment\n",
        "2. Query state_space & action_space\n",
        "3. Init Q_Table with zeros"
      ]
    },
    {
      "cell_type": "code",
      "metadata": {
        "id": "lSBUR6jIs6-8",
        "colab_type": "code",
        "colab": {
          "base_uri": "https://localhost:8080/",
          "height": 289
        },
        "outputId": "b8ca77da-a9a9-433b-c171-d47455eac58a"
      },
      "source": [
        "env = gym.make(\"FrozenLake-v0\")\n",
        "\n",
        "env.reset()\n",
        "states  = env.observation_space.n   # 4x4 positions : 16 states\n",
        "actions = env.action_space.n        # 4 Actions -> {L, R, U, D}\n",
        "\n",
        "q_table = np.zeros((states, actions))\n",
        "\n",
        "print(q_table)"
      ],
      "execution_count": 3,
      "outputs": [
        {
          "output_type": "stream",
          "text": [
            "[[0. 0. 0. 0.]\n",
            " [0. 0. 0. 0.]\n",
            " [0. 0. 0. 0.]\n",
            " [0. 0. 0. 0.]\n",
            " [0. 0. 0. 0.]\n",
            " [0. 0. 0. 0.]\n",
            " [0. 0. 0. 0.]\n",
            " [0. 0. 0. 0.]\n",
            " [0. 0. 0. 0.]\n",
            " [0. 0. 0. 0.]\n",
            " [0. 0. 0. 0.]\n",
            " [0. 0. 0. 0.]\n",
            " [0. 0. 0. 0.]\n",
            " [0. 0. 0. 0.]\n",
            " [0. 0. 0. 0.]\n",
            " [0. 0. 0. 0.]]\n"
          ],
          "name": "stdout"
        }
      ]
    },
    {
      "cell_type": "markdown",
      "metadata": {
        "id": "yATmeexqs6_A",
        "colab_type": "text"
      },
      "source": [
        "Q-Learning Algorithm"
      ]
    },
    {
      "cell_type": "code",
      "metadata": {
        "id": "p1bdhevNs6_B",
        "colab_type": "code",
        "colab": {}
      },
      "source": [
        "RewardsPerEpisode = []\n",
        "for ep in range(NumOfEpisodes):\n",
        "    epReward = 0\n",
        "    state    = env.reset()\n",
        "    done     = False\n",
        "    \n",
        "    for step in range(NumOfSteps):\n",
        "        # Decide: Explore or exploit ?\n",
        "        if random.uniform(0, 1) > ExploreProbability:\n",
        "            # Exploit\n",
        "            action = np.argmax(q_table[state, :])\n",
        "        else:\n",
        "            # Explore\n",
        "            action = env.action_space.sample()\n",
        "\n",
        "            \n",
        "        # Perform the action in Environment\n",
        "        new_state, reward, done, info = env.step(action)\n",
        "\n",
        "        q_table[state, action] = (1.0 - learningRate) * q_table[state, action] +\\\n",
        "            learningRate * (reward + discountedReward * np.max(q_table[new_state,:]))\n",
        "        \n",
        "        state = new_state\n",
        "        epReward += reward\n",
        "\n",
        "        if (done == True):\n",
        "            break\n",
        "    \n",
        "    ExploreProbability = ExploreRateMin + \\\n",
        "        (ExploreRateMax - ExploreRateMin) * np.exp(-ExploreDecayRate * ep)\n",
        "    \n",
        "    RewardsPerEpisode.append(epReward)\n",
        "    "
      ],
      "execution_count": 0,
      "outputs": []
    },
    {
      "cell_type": "code",
      "metadata": {
        "id": "bnZkO6mNs6_D",
        "colab_type": "code",
        "colab": {
          "base_uri": "https://localhost:8080/",
          "height": 187
        },
        "outputId": "a00ec075-d237-46b7-ac0a-98d3654644c9"
      },
      "source": [
        "count = 1000\n",
        "RewardsPerKEpisodes = np.split(np.array(RewardsPerEpisode), NumOfEpisodes/count)\n",
        "\n",
        "for r in RewardsPerKEpisodes:\n",
        "    print (count, '  : ', str(sum(r/1000)))\n",
        "    count += 1000"
      ],
      "execution_count": 5,
      "outputs": [
        {
          "output_type": "stream",
          "text": [
            "1000   :  0.060000000000000046\n",
            "2000   :  0.19000000000000014\n",
            "3000   :  0.3960000000000003\n",
            "4000   :  0.5330000000000004\n",
            "5000   :  0.6630000000000005\n",
            "6000   :  0.6900000000000005\n",
            "7000   :  0.6850000000000005\n",
            "8000   :  0.7200000000000005\n",
            "9000   :  0.7170000000000005\n",
            "10000   :  0.7180000000000005\n"
          ],
          "name": "stdout"
        }
      ]
    },
    {
      "cell_type": "code",
      "metadata": {
        "id": "-8h8_IAus6_G",
        "colab_type": "code",
        "colab": {
          "base_uri": "https://localhost:8080/",
          "height": 289
        },
        "outputId": "0ebd6a49-bb78-4723-8ce7-c845c981ba88"
      },
      "source": [
        "print (q_table)"
      ],
      "execution_count": 6,
      "outputs": [
        {
          "output_type": "stream",
          "text": [
            "[[0.5012777  0.4677381  0.4686373  0.4584095 ]\n",
            " [0.36687664 0.33698971 0.38050301 0.4904394 ]\n",
            " [0.36050889 0.36978885 0.38379681 0.44613126]\n",
            " [0.31762081 0.27543078 0.26449779 0.43186085]\n",
            " [0.51730091 0.41696842 0.31780403 0.28590211]\n",
            " [0.         0.         0.         0.        ]\n",
            " [0.34319984 0.05132503 0.05668858 0.05885511]\n",
            " [0.         0.         0.         0.        ]\n",
            " [0.38996655 0.40982834 0.40886871 0.54552593]\n",
            " [0.38751819 0.62145562 0.41010838 0.20755688]\n",
            " [0.63937937 0.27238297 0.22368844 0.26865321]\n",
            " [0.         0.         0.         0.        ]\n",
            " [0.         0.         0.         0.        ]\n",
            " [0.52955046 0.46392684 0.78423053 0.51208529]\n",
            " [0.6684947  0.93321236 0.66302417 0.66774514]\n",
            " [0.         0.         0.         0.        ]]\n"
          ],
          "name": "stdout"
        }
      ]
    },
    {
      "cell_type": "code",
      "metadata": {
        "id": "qTIvwJVSs6_J",
        "colab_type": "code",
        "colab": {
          "base_uri": "https://localhost:8080/",
          "height": 102
        },
        "outputId": "4de91068-1ad2-4162-f715-e9823b432ed7"
      },
      "source": [
        "for episode in range(3):\n",
        "    done = False\n",
        "    state = env.reset()\n",
        "    env.render\n",
        "    time.sleep(0.3)\n",
        "    for step in range(NumOfSteps):\n",
        "        clear_output(wait=True)\n",
        "        env.render()\n",
        "        time.sleep(0.3)\n",
        "        action = np.argmax(q_table[state, :])\n",
        "        new_state, reward, done, info = env.step(action)\n",
        "        \n",
        "        if (done == True):\n",
        "            clear_output(wait=True)\n",
        "            env.render()\n",
        "            time.sleep(3)\n",
        "            break\n",
        "        else:\n",
        "            state = new_state"
      ],
      "execution_count": 7,
      "outputs": [
        {
          "output_type": "stream",
          "text": [
            "  (Down)\n",
            "SFFF\n",
            "FHFH\n",
            "FFFH\n",
            "HFF\u001b[41mG\u001b[0m\n"
          ],
          "name": "stdout"
        }
      ]
    }
  ]
}