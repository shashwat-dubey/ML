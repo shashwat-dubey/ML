{
  "nbformat": 4,
  "nbformat_minor": 0,
  "metadata": {
    "colab": {
      "name": "KerasTutorial.ipynb",
      "provenance": [],
      "mount_file_id": "1GvxfD32chRMBKb67WjWgsKf85UlwHt3I",
      "authorship_tag": "ABX9TyPvUMX68meHcN7fkSDvN3hU",
      "include_colab_link": true
    },
    "kernelspec": {
      "name": "python3",
      "display_name": "Python 3"
    },
    "accelerator": "GPU"
  },
  "cells": [
    {
      "cell_type": "markdown",
      "metadata": {
        "id": "view-in-github",
        "colab_type": "text"
      },
      "source": [
        "<a href=\"https://colab.research.google.com/github/shashwat-dubey/ML/blob/master/KerasTutorial.ipynb\" target=\"_parent\"><img src=\"https://colab.research.google.com/assets/colab-badge.svg\" alt=\"Open In Colab\"/></a>"
      ]
    },
    {
      "cell_type": "code",
      "metadata": {
        "id": "GzTw7ITwVglQ",
        "colab_type": "code",
        "colab": {}
      },
      "source": [
        "from tensorflow import keras as K\n",
        "from tensorflow.keras.datasets import mnist\n",
        "from tensorflow.keras.utils import to_categorical\n",
        "import matplotlib.pyplot as plt\n"
      ],
      "execution_count": 0,
      "outputs": []
    },
    {
      "cell_type": "code",
      "metadata": {
        "id": "ifT2dXaKW0oH",
        "colab_type": "code",
        "colab": {}
      },
      "source": [
        "(X_train, Y_train), (x_test, y_test) = mnist.load_data()"
      ],
      "execution_count": 0,
      "outputs": []
    },
    {
      "cell_type": "code",
      "metadata": {
        "id": "bxH3N17laqqC",
        "colab_type": "code",
        "colab": {
          "base_uri": "https://localhost:8080/",
          "height": 85
        },
        "outputId": "f9728ea1-bfca-40a6-c468-6096104d1dee"
      },
      "source": [
        "print(\"X_train.shape : \" + str(X_train.shape))\n",
        "print(\"Y_train.shape : \" + str(Y_train.shape))\n",
        "print(\"x_test.shape  : \" + str(x_test.shape))\n",
        "print(\"y_test.shape  : \" + str(y_test.shape))"
      ],
      "execution_count": 3,
      "outputs": [
        {
          "output_type": "stream",
          "text": [
            "X_train.shape : (60000, 28, 28)\n",
            "Y_train.shape : (60000,)\n",
            "x_test.shape  : (10000, 28, 28)\n",
            "y_test.shape  : (10000,)\n"
          ],
          "name": "stdout"
        }
      ]
    },
    {
      "cell_type": "code",
      "metadata": {
        "id": "ocIUotX8a8Ts",
        "colab_type": "code",
        "colab": {
          "base_uri": "https://localhost:8080/",
          "height": 282
        },
        "outputId": "e44e56ce-3c0a-4256-b26e-0461a558c618"
      },
      "source": [
        "plt.imshow(x_test[0], cmap='Greys')\n",
        "print(y_test[0])"
      ],
      "execution_count": 4,
      "outputs": [
        {
          "output_type": "stream",
          "text": [
            "7\n"
          ],
          "name": "stdout"
        },
        {
          "output_type": "display_data",
          "data": {
            "image/png": "[encoded data removed]",
            "text/plain": [
              "<Figure size 432x288 with 1 Axes>"
            ]
          },
          "metadata": {
            "tags": [],
            "needs_background": "light"
          }
        }
      ]
    },
    {
      "cell_type": "markdown",
      "metadata": {
        "id": "2k8Nnc5xiMuF",
        "colab_type": "text"
      },
      "source": [
        "## Preprocessing the input data\n",
        "1. Reshape the train & test data.\n",
        ">\n",
        "    * From mnist database the X_train data has come in (60000 * 28 * 28) 3D array format, convert to (60000, 28 * 28) 2D array.\n",
        "    * From mnist database the X_test  data has come in (10000 * 28 * 28) 3D array format, convert to (10000, 28 * 28) 2D array.\n",
        "2. Convert datatype to float32.\n",
        "3. Devide by 255, so that every sample lies between [0, 1]"
      ]
    },
    {
      "cell_type": "code",
      "metadata": {
        "id": "CuubbJ5Bdzof",
        "colab_type": "code",
        "colab": {
          "base_uri": "https://localhost:8080/",
          "height": 1000
        },
        "outputId": "8c59d81e-d6e1-4c4e-91c2-f2040d7c36ad"
      },
      "source": [
        "X_train = X_train.reshape(X_train.shape[0], -1)     # Alternatively, X_train.reshape(60000, 28*28) or X_train.reshape(X_train.shape[0], X_train.shape[1] * X_train.shape[2])\n",
        "x_test  = x_test.reshape (x_test.shape[0] , -1)\n",
        "print(\"New X_train.shape : \" + str(X_train.shape))\n",
        "print(\"New x_test.shape  : \" + str(x_test.shape))\n",
        "print(\"\\n\\n\\n X_train[0] before float conversion & devision by 255:\\n\")\n",
        "print(X_train[0])\n",
        "\n",
        "X_train = X_train.astype('float32')/255.0\n",
        "x_test  = x_test.astype('float32')/255.0\n",
        "\n",
        "\n",
        "print(\"\\n\\n\\n X_train[0] after float conversion & devision by 255:\\n\")\n",
        "print(X_train[0])"
      ],
      "execution_count": 5,
      "outputs": [
        {
          "output_type": "stream",
          "text": [
            "New X_train.shape : (60000, 784)\n",
            "New x_test.shape  : (10000, 784)\n",
            "\n",
            "\n",
            "\n",
            " X_train[0] before float conversion & devision by 255:\n",
            "\n",
            "[  0   0   0   0   0   0   0   0   0   0   0   0   0   0   0   0   0   0\n",
            "   0   0   0   0   0   0   0   0   0   0   0   0   0   0   0   0   0   0\n",
            "   0   0   0   0   0   0   0   0   0   0   0   0   0   0   0   0   0   0\n",
            "   0   0   0   0   0   0   0   0   0   0   0   0   0   0   0   0   0   0\n",
            "   0   0   0   0   0   0   0   0   0   0   0   0   0   0   0   0   0   0\n",
            "   0   0   0   0   0   0   0   0   0   0   0   0   0   0   0   0   0   0\n",
            "   0   0   0   0   0   0   0   0   0   0   0   0   0   0   0   0   0   0\n",
            "   0   0   0   0   0   0   0   0   0   0   0   0   0   0   0   0   0   0\n",
            "   0   0   0   0   0   0   0   0   3  18  18  18 126 136 175  26 166 255\n",
            " 247 127   0   0   0   0   0   0   0   0   0   0   0   0  30  36  94 154\n",
            " 170 253 253 253 253 253 225 172 253 242 195  64   0   0   0   0   0   0\n",
            "   0   0   0   0   0  49 238 253 253 253 253 253 253 253 253 251  93  82\n",
            "  82  56  39   0   0   0   0   0   0   0   0   0   0   0   0  18 219 253\n",
            " 253 253 253 253 198 182 247 241   0   0   0   0   0   0   0   0   0   0\n",
            "   0   0   0   0   0   0   0   0  80 156 107 253 253 205  11   0  43 154\n",
            "   0   0   0   0   0   0   0   0   0   0   0   0   0   0   0   0   0   0\n",
            "   0  14   1 154 253  90   0   0   0   0   0   0   0   0   0   0   0   0\n",
            "   0   0   0   0   0   0   0   0   0   0   0   0   0 139 253 190   2   0\n",
            "   0   0   0   0   0   0   0   0   0   0   0   0   0   0   0   0   0   0\n",
            "   0   0   0   0   0  11 190 253  70   0   0   0   0   0   0   0   0   0\n",
            "   0   0   0   0   0   0   0   0   0   0   0   0   0   0   0   0  35 241\n",
            " 225 160 108   1   0   0   0   0   0   0   0   0   0   0   0   0   0   0\n",
            "   0   0   0   0   0   0   0   0   0  81 240 253 253 119  25   0   0   0\n",
            "   0   0   0   0   0   0   0   0   0   0   0   0   0   0   0   0   0   0\n",
            "   0   0  45 186 253 253 150  27   0   0   0   0   0   0   0   0   0   0\n",
            "   0   0   0   0   0   0   0   0   0   0   0   0   0  16  93 252 253 187\n",
            "   0   0   0   0   0   0   0   0   0   0   0   0   0   0   0   0   0   0\n",
            "   0   0   0   0   0   0   0 249 253 249  64   0   0   0   0   0   0   0\n",
            "   0   0   0   0   0   0   0   0   0   0   0   0   0   0  46 130 183 253\n",
            " 253 207   2   0   0   0   0   0   0   0   0   0   0   0   0   0   0   0\n",
            "   0   0   0   0  39 148 229 253 253 253 250 182   0   0   0   0   0   0\n",
            "   0   0   0   0   0   0   0   0   0   0   0   0  24 114 221 253 253 253\n",
            " 253 201  78   0   0   0   0   0   0   0   0   0   0   0   0   0   0   0\n",
            "   0   0  23  66 213 253 253 253 253 198  81   2   0   0   0   0   0   0\n",
            "   0   0   0   0   0   0   0   0   0   0  18 171 219 253 253 253 253 195\n",
            "  80   9   0   0   0   0   0   0   0   0   0   0   0   0   0   0   0   0\n",
            "  55 172 226 253 253 253 253 244 133  11   0   0   0   0   0   0   0   0\n",
            "   0   0   0   0   0   0   0   0   0   0 136 253 253 253 212 135 132  16\n",
            "   0   0   0   0   0   0   0   0   0   0   0   0   0   0   0   0   0   0\n",
            "   0   0   0   0   0   0   0   0   0   0   0   0   0   0   0   0   0   0\n",
            "   0   0   0   0   0   0   0   0   0   0   0   0   0   0   0   0   0   0\n",
            "   0   0   0   0   0   0   0   0   0   0   0   0   0   0   0   0   0   0\n",
            "   0   0   0   0   0   0   0   0   0   0   0   0   0   0   0   0   0   0\n",
            "   0   0   0   0   0   0   0   0   0   0]\n",
            "\n",
            "\n",
            "\n",
            " X_train[0] after float conversion & devision by 255:\n",
            "\n",
            "[0.         0.         0.         0.         0.         0.\n",
            " 0.         0.         0.         0.         0.         0.\n",
            " 0.         0.         0.         0.         0.         0.\n",
            " 0.         0.         0.         0.         0.         0.\n",
            " 0.         0.         0.         0.         0.         0.\n",
            " 0.         0.         0.         0.         0.         0.\n",
            " 0.         0.         0.         0.         0.         0.\n",
            " 0.         0.         0.         0.         0.         0.\n",
            " 0.         0.         0.         0.         0.         0.\n",
            " 0.         0.         0.         0.         0.         0.\n",
            " 0.         0.         0.         0.         0.         0.\n",
            " 0.         0.         0.         0.         0.         0.\n",
            " 0.         0.         0.         0.         0.         0.\n",
            " 0.         0.         0.         0.         0.         0.\n",
            " 0.         0.         0.         0.         0.         0.\n",
            " 0.         0.         0.         0.         0.         0.\n",
            " 0.         0.         0.         0.         0.         0.\n",
            " 0.         0.         0.         0.         0.         0.\n",
            " 0.         0.         0.         0.         0.         0.\n",
            " 0.         0.         0.         0.         0.         0.\n",
            " 0.         0.         0.         0.         0.         0.\n",
            " 0.         0.         0.         0.         0.         0.\n",
            " 0.         0.         0.         0.         0.         0.\n",
            " 0.         0.         0.         0.         0.         0.\n",
            " 0.         0.         0.         0.         0.         0.\n",
            " 0.         0.         0.01176471 0.07058824 0.07058824 0.07058824\n",
            " 0.49411765 0.53333336 0.6862745  0.10196079 0.6509804  1.\n",
            " 0.96862745 0.49803922 0.         0.         0.         0.\n",
            " 0.         0.         0.         0.         0.         0.\n",
            " 0.         0.         0.11764706 0.14117648 0.36862746 0.6039216\n",
            " 0.6666667  0.99215686 0.99215686 0.99215686 0.99215686 0.99215686\n",
            " 0.88235295 0.6745098  0.99215686 0.9490196  0.7647059  0.2509804\n",
            " 0.         0.         0.         0.         0.         0.\n",
            " 0.         0.         0.         0.         0.         0.19215687\n",
            " 0.93333334 0.99215686 0.99215686 0.99215686 0.99215686 0.99215686\n",
            " 0.99215686 0.99215686 0.99215686 0.9843137  0.3647059  0.32156864\n",
            " 0.32156864 0.21960784 0.15294118 0.         0.         0.\n",
            " 0.         0.         0.         0.         0.         0.\n",
            " 0.         0.         0.         0.07058824 0.85882354 0.99215686\n",
            " 0.99215686 0.99215686 0.99215686 0.99215686 0.7764706  0.7137255\n",
            " 0.96862745 0.94509804 0.         0.         0.         0.\n",
            " 0.         0.         0.         0.         0.         0.\n",
            " 0.         0.         0.         0.         0.         0.\n",
            " 0.         0.         0.3137255  0.6117647  0.41960785 0.99215686\n",
            " 0.99215686 0.8039216  0.04313726 0.         0.16862746 0.6039216\n",
            " 0.         0.         0.         0.         0.         0.\n",
            " 0.         0.         0.         0.         0.         0.\n",
            " 0.         0.         0.         0.         0.         0.\n",
            " 0.         0.05490196 0.00392157 0.6039216  0.99215686 0.3529412\n",
            " 0.         0.         0.         0.         0.         0.\n",
            " 0.         0.         0.         0.         0.         0.\n",
            " 0.         0.         0.         0.         0.         0.\n",
            " 0.         0.         0.         0.         0.         0.\n",
            " 0.         0.54509807 0.99215686 0.74509805 0.00784314 0.\n",
            " 0.         0.         0.         0.         0.         0.\n",
            " 0.         0.         0.         0.         0.         0.\n",
            " 0.         0.         0.         0.         0.         0.\n",
            " 0.         0.         0.         0.         0.         0.04313726\n",
            " 0.74509805 0.99215686 0.27450982 0.         0.         0.\n",
            " 0.         0.         0.         0.         0.         0.\n",
            " 0.         0.         0.         0.         0.         0.\n",
            " 0.         0.         0.         0.         0.         0.\n",
            " 0.         0.         0.         0.         0.13725491 0.94509804\n",
            " 0.88235295 0.627451   0.42352942 0.00392157 0.         0.\n",
            " 0.         0.         0.         0.         0.         0.\n",
            " 0.         0.         0.         0.         0.         0.\n",
            " 0.         0.         0.         0.         0.         0.\n",
            " 0.         0.         0.         0.31764707 0.9411765  0.99215686\n",
            " 0.99215686 0.46666667 0.09803922 0.         0.         0.\n",
            " 0.         0.         0.         0.         0.         0.\n",
            " 0.         0.         0.         0.         0.         0.\n",
            " 0.         0.         0.         0.         0.         0.\n",
            " 0.         0.         0.1764706  0.7294118  0.99215686 0.99215686\n",
            " 0.5882353  0.10588235 0.         0.         0.         0.\n",
            " 0.         0.         0.         0.         0.         0.\n",
            " 0.         0.         0.         0.         0.         0.\n",
            " 0.         0.         0.         0.         0.         0.\n",
            " 0.         0.0627451  0.3647059  0.9882353  0.99215686 0.73333335\n",
            " 0.         0.         0.         0.         0.         0.\n",
            " 0.         0.         0.         0.         0.         0.\n",
            " 0.         0.         0.         0.         0.         0.\n",
            " 0.         0.         0.         0.         0.         0.\n",
            " 0.         0.9764706  0.99215686 0.9764706  0.2509804  0.\n",
            " 0.         0.         0.         0.         0.         0.\n",
            " 0.         0.         0.         0.         0.         0.\n",
            " 0.         0.         0.         0.         0.         0.\n",
            " 0.         0.         0.18039216 0.50980395 0.7176471  0.99215686\n",
            " 0.99215686 0.8117647  0.00784314 0.         0.         0.\n",
            " 0.         0.         0.         0.         0.         0.\n",
            " 0.         0.         0.         0.         0.         0.\n",
            " 0.         0.         0.         0.         0.15294118 0.5803922\n",
            " 0.8980392  0.99215686 0.99215686 0.99215686 0.98039216 0.7137255\n",
            " 0.         0.         0.         0.         0.         0.\n",
            " 0.         0.         0.         0.         0.         0.\n",
            " 0.         0.         0.         0.         0.         0.\n",
            " 0.09411765 0.44705883 0.8666667  0.99215686 0.99215686 0.99215686\n",
            " 0.99215686 0.7882353  0.30588236 0.         0.         0.\n",
            " 0.         0.         0.         0.         0.         0.\n",
            " 0.         0.         0.         0.         0.         0.\n",
            " 0.         0.         0.09019608 0.25882354 0.8352941  0.99215686\n",
            " 0.99215686 0.99215686 0.99215686 0.7764706  0.31764707 0.00784314\n",
            " 0.         0.         0.         0.         0.         0.\n",
            " 0.         0.         0.         0.         0.         0.\n",
            " 0.         0.         0.         0.         0.07058824 0.67058825\n",
            " 0.85882354 0.99215686 0.99215686 0.99215686 0.99215686 0.7647059\n",
            " 0.3137255  0.03529412 0.         0.         0.         0.\n",
            " 0.         0.         0.         0.         0.         0.\n",
            " 0.         0.         0.         0.         0.         0.\n",
            " 0.21568628 0.6745098  0.8862745  0.99215686 0.99215686 0.99215686\n",
            " 0.99215686 0.95686275 0.52156866 0.04313726 0.         0.\n",
            " 0.         0.         0.         0.         0.         0.\n",
            " 0.         0.         0.         0.         0.         0.\n",
            " 0.         0.         0.         0.         0.53333336 0.99215686\n",
            " 0.99215686 0.99215686 0.83137256 0.5294118  0.5176471  0.0627451\n",
            " 0.         0.         0.         0.         0.         0.\n",
            " 0.         0.         0.         0.         0.         0.\n",
            " 0.         0.         0.         0.         0.         0.\n",
            " 0.         0.         0.         0.         0.         0.\n",
            " 0.         0.         0.         0.         0.         0.\n",
            " 0.         0.         0.         0.         0.         0.\n",
            " 0.         0.         0.         0.         0.         0.\n",
            " 0.         0.         0.         0.         0.         0.\n",
            " 0.         0.         0.         0.         0.         0.\n",
            " 0.         0.         0.         0.         0.         0.\n",
            " 0.         0.         0.         0.         0.         0.\n",
            " 0.         0.         0.         0.         0.         0.\n",
            " 0.         0.         0.         0.         0.         0.\n",
            " 0.         0.         0.         0.         0.         0.\n",
            " 0.         0.         0.         0.         0.         0.\n",
            " 0.         0.         0.         0.         0.         0.\n",
            " 0.         0.         0.         0.        ]\n"
          ],
          "name": "stdout"
        }
      ]
    },
    {
      "cell_type": "markdown",
      "metadata": {
        "id": "JovDhzmypmvx",
        "colab_type": "text"
      },
      "source": [
        "## Preprocess the Output:\n",
        "1. Use to_categorical function to convert 1D array into array of N Class bins.\n",
        "2. to_categorical function finds out number of classes (N) in provided input array and adds another dimension of size [N] to input.\n",
        "3. Our output consists of 10 Classes (0-9 digits), therefore new shape becomes (60000, 10). Also, binning is implemented.\n",
        "4. Binning example for class N = 3:\n",
        "> [1, 0, 0]\n",
        "> [0, 1, 0]\n",
        "> [0, 0, 1]\n"
      ]
    },
    {
      "cell_type": "code",
      "metadata": {
        "id": "Vi3T4vejhU1V",
        "colab_type": "code",
        "colab": {
          "base_uri": "https://localhost:8080/",
          "height": 85
        },
        "outputId": "222250bd-507c-42dd-e785-f72157dbc4a9"
      },
      "source": [
        "print(\"Initial Y_train.shape : \" + str(Y_train.shape))\n",
        "print(\"Initial Y_train[0] : \"    + str(Y_train[0]))\n",
        "#Y_train = to_categorical(Y_train, num_classes=10)\n",
        "Y_train = to_categorical(Y_train)\n",
        "y_test  = to_categorical(y_test)\n",
        "print(\"After to_categorical call, Y_train.shape : \" + str(Y_train.shape))\n",
        "print(\"After to_categorical call, Y_train[0] : \"    + str(Y_train[0]))"
      ],
      "execution_count": 6,
      "outputs": [
        {
          "output_type": "stream",
          "text": [
            "Initial Y_train.shape : (60000,)\n",
            "Initial Y_train[0] : 5\n",
            "After to_categorical call, Y_train.shape : (60000, 10)\n",
            "After to_categorical call, Y_train[0] : [0. 0. 0. 0. 0. 1. 0. 0. 0. 0.]\n"
          ],
          "name": "stdout"
        }
      ]
    },
    {
      "cell_type": "markdown",
      "metadata": {
        "id": "ShDF-AqH0u80",
        "colab_type": "text"
      },
      "source": [
        "## Build the Model:\n",
        "1. Input Layer: 784 inputs (1D array of 28 x 28 pixel)\n",
        "2. Layer1: 512 neurons with ReLU activation fx.\n",
        "3. Layer2: 512 neurons with ReLU activation fx.\n",
        "4. Output Layer: 10 Neurons [0 - 9 Digits] with softmax activation fx.\n",
        "5. Param# column in model.summary() output is calculated as N_input * N_Neurons + bias, where bias = N_Neurons"
      ]
    },
    {
      "cell_type": "code",
      "metadata": {
        "id": "zFW8iHFng5in",
        "colab_type": "code",
        "colab": {}
      },
      "source": [
        "model = K.Sequential()"
      ],
      "execution_count": 0,
      "outputs": []
    },
    {
      "cell_type": "code",
      "metadata": {
        "id": "WvA_kgn003ai",
        "colab_type": "code",
        "colab": {}
      },
      "source": [
        "model.add(K.layers.Dense(512, activation='relu', input_shape=(784,)))"
      ],
      "execution_count": 0,
      "outputs": []
    },
    {
      "cell_type": "code",
      "metadata": {
        "id": "kzbKMkSN11mN",
        "colab_type": "code",
        "colab": {}
      },
      "source": [
        "model.add(K.layers.Dense(512, activation='relu'))"
      ],
      "execution_count": 0,
      "outputs": []
    },
    {
      "cell_type": "code",
      "metadata": {
        "id": "rPS2TwuK19Ct",
        "colab_type": "code",
        "colab": {}
      },
      "source": [
        "model.add(K.layers.Dense(10, activation='softmax'))"
      ],
      "execution_count": 0,
      "outputs": []
    },
    {
      "cell_type": "code",
      "metadata": {
        "id": "NTT8jh5E2D31",
        "colab_type": "code",
        "colab": {}
      },
      "source": [
        "model.compile(optimizer='adam', loss='categorical_crossentropy', metrics=['accuracy'])"
      ],
      "execution_count": 0,
      "outputs": []
    },
    {
      "cell_type": "code",
      "metadata": {
        "id": "AG0LYjAo2adt",
        "colab_type": "code",
        "colab": {
          "base_uri": "https://localhost:8080/",
          "height": 255
        },
        "outputId": "1fddd037-ac5b-4d33-b2d1-3c5b25cd04ea"
      },
      "source": [
        "model.summary()"
      ],
      "execution_count": 12,
      "outputs": [
        {
          "output_type": "stream",
          "text": [
            "Model: \"sequential\"\n",
            "_________________________________________________________________\n",
            "Layer (type)                 Output Shape              Param #   \n",
            "=================================================================\n",
            "dense (Dense)                (None, 512)               401920    \n",
            "_________________________________________________________________\n",
            "dense_1 (Dense)              (None, 512)               262656    \n",
            "_________________________________________________________________\n",
            "dense_2 (Dense)              (None, 10)                5130      \n",
            "=================================================================\n",
            "Total params: 669,706\n",
            "Trainable params: 669,706\n",
            "Non-trainable params: 0\n",
            "_________________________________________________________________\n"
          ],
          "name": "stdout"
        }
      ]
    },
    {
      "cell_type": "markdown",
      "metadata": {
        "id": "XPKnv9A66XuJ",
        "colab_type": "text"
      },
      "source": [
        "## Train the Model:"
      ]
    },
    {
      "cell_type": "code",
      "metadata": {
        "id": "GKjuGABq2fJ8",
        "colab_type": "code",
        "colab": {
          "base_uri": "https://localhost:8080/",
          "height": 697
        },
        "outputId": "d83491d9-110c-4b1d-ee91-eab57e73b2e0"
      },
      "source": [
        "History = model.fit(x = X_train, y = Y_train, epochs = 20, validation_data = (x_test, y_test))"
      ],
      "execution_count": 13,
      "outputs": [
        {
          "output_type": "stream",
          "text": [
            "Epoch 1/20\n",
            "1875/1875 [==============================] - 8s 4ms/step - loss: 0.1834 - accuracy: 0.9439 - val_loss: 0.0986 - val_accuracy: 0.9703\n",
            "Epoch 2/20\n",
            "1875/1875 [==============================] - 7s 4ms/step - loss: 0.0799 - accuracy: 0.9743 - val_loss: 0.0741 - val_accuracy: 0.9766\n",
            "Epoch 3/20\n",
            "1875/1875 [==============================] - 7s 4ms/step - loss: 0.0559 - accuracy: 0.9820 - val_loss: 0.0739 - val_accuracy: 0.9777\n",
            "Epoch 4/20\n",
            "1875/1875 [==============================] - 8s 4ms/step - loss: 0.0431 - accuracy: 0.9862 - val_loss: 0.0728 - val_accuracy: 0.9805\n",
            "Epoch 5/20\n",
            "1875/1875 [==============================] - 7s 4ms/step - loss: 0.0334 - accuracy: 0.9896 - val_loss: 0.1001 - val_accuracy: 0.9739\n",
            "Epoch 6/20\n",
            "1875/1875 [==============================] - 7s 4ms/step - loss: 0.0306 - accuracy: 0.9905 - val_loss: 0.0885 - val_accuracy: 0.9787\n",
            "Epoch 7/20\n",
            "1875/1875 [==============================] - 7s 4ms/step - loss: 0.0243 - accuracy: 0.9923 - val_loss: 0.0883 - val_accuracy: 0.9784\n",
            "Epoch 8/20\n",
            "1875/1875 [==============================] - 7s 4ms/step - loss: 0.0222 - accuracy: 0.9931 - val_loss: 0.0959 - val_accuracy: 0.9776\n",
            "Epoch 9/20\n",
            "1875/1875 [==============================] - 7s 4ms/step - loss: 0.0214 - accuracy: 0.9934 - val_loss: 0.0891 - val_accuracy: 0.9801\n",
            "Epoch 10/20\n",
            "1875/1875 [==============================] - 7s 4ms/step - loss: 0.0169 - accuracy: 0.9946 - val_loss: 0.0997 - val_accuracy: 0.9808\n",
            "Epoch 11/20\n",
            "1875/1875 [==============================] - 7s 4ms/step - loss: 0.0175 - accuracy: 0.9950 - val_loss: 0.0930 - val_accuracy: 0.9822\n",
            "Epoch 12/20\n",
            "1875/1875 [==============================] - 7s 4ms/step - loss: 0.0170 - accuracy: 0.9953 - val_loss: 0.1188 - val_accuracy: 0.9814\n",
            "Epoch 13/20\n",
            "1875/1875 [==============================] - 7s 4ms/step - loss: 0.0163 - accuracy: 0.9952 - val_loss: 0.1041 - val_accuracy: 0.9822\n",
            "Epoch 14/20\n",
            "1875/1875 [==============================] - 7s 4ms/step - loss: 0.0129 - accuracy: 0.9965 - val_loss: 0.1322 - val_accuracy: 0.9778\n",
            "Epoch 15/20\n",
            "1875/1875 [==============================] - 8s 4ms/step - loss: 0.0118 - accuracy: 0.9964 - val_loss: 0.1531 - val_accuracy: 0.9774\n",
            "Epoch 16/20\n",
            "1875/1875 [==============================] - 7s 4ms/step - loss: 0.0159 - accuracy: 0.9955 - val_loss: 0.1196 - val_accuracy: 0.9811\n",
            "Epoch 17/20\n",
            "1875/1875 [==============================] - 7s 4ms/step - loss: 0.0129 - accuracy: 0.9962 - val_loss: 0.1167 - val_accuracy: 0.9840\n",
            "Epoch 18/20\n",
            "1875/1875 [==============================] - 7s 4ms/step - loss: 0.0147 - accuracy: 0.9966 - val_loss: 0.1475 - val_accuracy: 0.9792\n",
            "Epoch 19/20\n",
            "1875/1875 [==============================] - 7s 4ms/step - loss: 0.0123 - accuracy: 0.9968 - val_loss: 0.1267 - val_accuracy: 0.9829\n",
            "Epoch 20/20\n",
            "1875/1875 [==============================] - 7s 4ms/step - loss: 0.0126 - accuracy: 0.9969 - val_loss: 0.1150 - val_accuracy: 0.9836\n"
          ],
          "name": "stdout"
        }
      ]
    },
    {
      "cell_type": "markdown",
      "metadata": {
        "id": "E2ZUL-CWB_kx",
        "colab_type": "text"
      },
      "source": [
        "## Evaluate the fitting"
      ]
    },
    {
      "cell_type": "code",
      "metadata": {
        "id": "3BC1aPyJ9yXi",
        "colab_type": "code",
        "colab": {
          "base_uri": "https://localhost:8080/",
          "height": 319
        },
        "outputId": "da45f955-fc78-41e1-9b11-b21402d60a8b"
      },
      "source": [
        "print(History.history)\n",
        "\n",
        "plt.plot(History.history['accuracy'])\n",
        "plt.plot(History.history['val_accuracy'])"
      ],
      "execution_count": 16,
      "outputs": [
        {
          "output_type": "stream",
          "text": [
            "{'loss': [0.18336226046085358, 0.07992804050445557, 0.05587522312998772, 0.043072909116744995, 0.033424973487854004, 0.03061043843626976, 0.024329815059900284, 0.022180095314979553, 0.021409155800938606, 0.01692449487745762, 0.017535382881760597, 0.016979513689875603, 0.016336670145392418, 0.012864528223872185, 0.011781441979110241, 0.015896404162049294, 0.012881988659501076, 0.01474220771342516, 0.012345054186880589, 0.012576918117702007], 'accuracy': [0.9439166784286499, 0.9743333458900452, 0.9819833040237427, 0.9862333536148071, 0.9896166920661926, 0.9905333518981934, 0.9923333525657654, 0.993149995803833, 0.9934499859809875, 0.9946333169937134, 0.9950166940689087, 0.9952999949455261, 0.9951833486557007, 0.9964500069618225, 0.9963666796684265, 0.9955166578292847, 0.996233344078064, 0.9966166615486145, 0.9968000054359436, 0.9968500137329102], 'val_loss': [0.09857083857059479, 0.07412159442901611, 0.07393311709165573, 0.07280535250902176, 0.10008556395769119, 0.08853170275688171, 0.08833546191453934, 0.09594540297985077, 0.08914757519960403, 0.09965597093105316, 0.09303849935531616, 0.11884552985429764, 0.10405654460191727, 0.1322457492351532, 0.15308547019958496, 0.11960387229919434, 0.11669184267520905, 0.14754469692707062, 0.12671339511871338, 0.1149931326508522], 'val_accuracy': [0.970300018787384, 0.9765999913215637, 0.9776999950408936, 0.9804999828338623, 0.9739000201225281, 0.9786999821662903, 0.9783999919891357, 0.9775999784469604, 0.9800999760627747, 0.9807999730110168, 0.982200026512146, 0.9814000129699707, 0.982200026512146, 0.9778000116348267, 0.977400004863739, 0.9811000227928162, 0.984000027179718, 0.979200005531311, 0.9829000234603882, 0.9836000204086304]}\n"
          ],
          "name": "stdout"
        },
        {
          "output_type": "execute_result",
          "data": {
            "text/plain": [
              "[<matplotlib.lines.Line2D at 0x7f2dfd104588>]"
            ]
          },
          "metadata": {
            "tags": []
          },
          "execution_count": 16
        },
        {
          "output_type": "display_data",
          "data": {
            "image/png": "[encoded data removed]",
            "text/plain": [
              "<Figure size 432x288 with 1 Axes>"
            ]
          },
          "metadata": {
            "tags": [],
            "needs_background": "light"
          }
        }
      ]
    },
    {
      "cell_type": "code",
      "metadata": {
        "id": "-jA-4CzzCaDk",
        "colab_type": "code",
        "colab": {}
      },
      "source": [
        ""
      ],
      "execution_count": 0,
      "outputs": []
    }
  ]
}